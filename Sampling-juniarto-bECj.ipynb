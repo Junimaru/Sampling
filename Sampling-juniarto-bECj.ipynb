{
 "cells": [
  {
   "cell_type": "markdown",
   "id": "e40162cc-08ff-4caa-9ff6-fcdc6763ec84",
   "metadata": {
    "tags": []
   },
   "source": [
    "### Perhitungan Cluster Sampling."
   ]
  },
  {
   "cell_type": "markdown",
   "id": "41b6955d-79fa-4ce7-972a-cec9910f919d",
   "metadata": {},
   "source": [
    "#### Menentukan Ukuran Cluster"
   ]
  },
  {
   "cell_type": "markdown",
   "id": "13be3c5d-9bed-46ff-8aba-4027b9e15fc7",
   "metadata": {},
   "source": [
    "##### Lakukan Pra Survey\n",
    "Langkah pertama yang dilakukan adalah menentukan ukuran sampel melalui pra survey, survey dilakukan kepada 5 kelurahan dengan hasil sebagai berikut:"
   ]
  },
  {
   "cell_type": "code",
   "execution_count": 1,
   "id": "09c021c0-b3da-4523-8e1c-3b9297158484",
   "metadata": {},
   "outputs": [],
   "source": [
    "#Load Package\n",
    "import pandas as pd\n",
    "import numpy as np\n",
    "import math\n",
    "from scipy import stats"
   ]
  },
  {
   "cell_type": "code",
   "execution_count": 2,
   "id": "62bbef3b-26a9-4b62-980c-efc4fabd6d44",
   "metadata": {},
   "outputs": [
    {
     "data": {
      "text/html": [
       "<div>\n",
       "<style scoped>\n",
       "    .dataframe tbody tr th:only-of-type {\n",
       "        vertical-align: middle;\n",
       "    }\n",
       "\n",
       "    .dataframe tbody tr th {\n",
       "        vertical-align: top;\n",
       "    }\n",
       "\n",
       "    .dataframe thead th {\n",
       "        text-align: right;\n",
       "    }\n",
       "</style>\n",
       "<table border=\"1\" class=\"dataframe\">\n",
       "  <thead>\n",
       "    <tr style=\"text-align: right;\">\n",
       "      <th></th>\n",
       "      <th>no</th>\n",
       "      <th>nama</th>\n",
       "      <th>status</th>\n",
       "      <th>jumlah</th>\n",
       "      <th>tgl</th>\n",
       "      <th>kelurahan</th>\n",
       "      <th>kecamatan</th>\n",
       "    </tr>\n",
       "  </thead>\n",
       "  <tbody>\n",
       "    <tr>\n",
       "      <th>0</th>\n",
       "      <td>1</td>\n",
       "      <td>RIZKI FEBRIYANTI, S.STP, M.AP</td>\n",
       "      <td>ASN</td>\n",
       "      <td>5</td>\n",
       "      <td>2020-03-13 00:00:00</td>\n",
       "      <td>KELURAHAN DARAT SEKIP</td>\n",
       "      <td>PONTIANAK KOTA</td>\n",
       "    </tr>\n",
       "    <tr>\n",
       "      <th>1</th>\n",
       "      <td>2</td>\n",
       "      <td>ITA ROSMAYANTY, S.E, M.M</td>\n",
       "      <td>ASN</td>\n",
       "      <td>3</td>\n",
       "      <td>2020-03-16 00:00:00</td>\n",
       "      <td>KELURAHAN DARAT SEKIP</td>\n",
       "      <td>PONTIANAK KOTA</td>\n",
       "    </tr>\n",
       "    <tr>\n",
       "      <th>2</th>\n",
       "      <td>3</td>\n",
       "      <td>SETIA BUDI, S.Sos</td>\n",
       "      <td>ASN</td>\n",
       "      <td>5</td>\n",
       "      <td>2020-02-28 00:00:00</td>\n",
       "      <td>KELURAHAN DARAT SEKIP</td>\n",
       "      <td>PONTIANAK KOTA</td>\n",
       "    </tr>\n",
       "    <tr>\n",
       "      <th>3</th>\n",
       "      <td>4</td>\n",
       "      <td>ELITHA RIA PANGGABEAN</td>\n",
       "      <td>ASN</td>\n",
       "      <td>6</td>\n",
       "      <td>2020-03-18 00:00:00</td>\n",
       "      <td>KELURAHAN DARAT SEKIP</td>\n",
       "      <td>PONTIANAK KOTA</td>\n",
       "    </tr>\n",
       "    <tr>\n",
       "      <th>4</th>\n",
       "      <td>5</td>\n",
       "      <td>ARIF WIBISONO, A.Md</td>\n",
       "      <td>ASN</td>\n",
       "      <td>4</td>\n",
       "      <td>2020-03-17 00:00:00</td>\n",
       "      <td>KELURAHAN DARAT SEKIP</td>\n",
       "      <td>PONTIANAK KOTA</td>\n",
       "    </tr>\n",
       "  </tbody>\n",
       "</table>\n",
       "</div>"
      ],
      "text/plain": [
       "   no                           nama status  jumlah                  tgl  \\\n",
       "0   1  RIZKI FEBRIYANTI, S.STP, M.AP    ASN       5  2020-03-13 00:00:00   \n",
       "1   2       ITA ROSMAYANTY, S.E, M.M    ASN       3  2020-03-16 00:00:00   \n",
       "2   3              SETIA BUDI, S.Sos    ASN       5  2020-02-28 00:00:00   \n",
       "3   4          ELITHA RIA PANGGABEAN    ASN       6  2020-03-18 00:00:00   \n",
       "4   5            ARIF WIBISONO, A.Md    ASN       4  2020-03-17 00:00:00   \n",
       "\n",
       "               kelurahan       kecamatan  \n",
       "0  KELURAHAN DARAT SEKIP  PONTIANAK KOTA  \n",
       "1  KELURAHAN DARAT SEKIP  PONTIANAK KOTA  \n",
       "2  KELURAHAN DARAT SEKIP  PONTIANAK KOTA  \n",
       "3  KELURAHAN DARAT SEKIP  PONTIANAK KOTA  \n",
       "4  KELURAHAN DARAT SEKIP  PONTIANAK KOTA  "
      ]
     },
     "execution_count": 2,
     "metadata": {},
     "output_type": "execute_result"
    }
   ],
   "source": [
    "#Load Dataset Pra Sample\n",
    "data = pd.read_excel(r'C:\\Users\\jkurn\\Documents\\Sampling\\pra_sample.xlsx')\n",
    "data.head()"
   ]
  },
  {
   "cell_type": "code",
   "execution_count": 3,
   "id": "04ff78f5-b378-4871-85fe-b54e95cd6f37",
   "metadata": {},
   "outputs": [
    {
     "data": {
      "text/html": [
       "<div>\n",
       "<style scoped>\n",
       "    .dataframe tbody tr th:only-of-type {\n",
       "        vertical-align: middle;\n",
       "    }\n",
       "\n",
       "    .dataframe tbody tr th {\n",
       "        vertical-align: top;\n",
       "    }\n",
       "\n",
       "    .dataframe thead th {\n",
       "        text-align: right;\n",
       "    }\n",
       "</style>\n",
       "<table border=\"1\" class=\"dataframe\">\n",
       "  <thead>\n",
       "    <tr style=\"text-align: right;\">\n",
       "      <th></th>\n",
       "      <th>no</th>\n",
       "      <th>jumlah</th>\n",
       "    </tr>\n",
       "  </thead>\n",
       "  <tbody>\n",
       "    <tr>\n",
       "      <th>count</th>\n",
       "      <td>48.00</td>\n",
       "      <td>48.000000</td>\n",
       "    </tr>\n",
       "    <tr>\n",
       "      <th>mean</th>\n",
       "      <td>24.50</td>\n",
       "      <td>4.395833</td>\n",
       "    </tr>\n",
       "    <tr>\n",
       "      <th>std</th>\n",
       "      <td>14.00</td>\n",
       "      <td>1.379787</td>\n",
       "    </tr>\n",
       "    <tr>\n",
       "      <th>min</th>\n",
       "      <td>1.00</td>\n",
       "      <td>1.000000</td>\n",
       "    </tr>\n",
       "    <tr>\n",
       "      <th>25%</th>\n",
       "      <td>12.75</td>\n",
       "      <td>4.000000</td>\n",
       "    </tr>\n",
       "    <tr>\n",
       "      <th>50%</th>\n",
       "      <td>24.50</td>\n",
       "      <td>5.000000</td>\n",
       "    </tr>\n",
       "    <tr>\n",
       "      <th>75%</th>\n",
       "      <td>36.25</td>\n",
       "      <td>5.000000</td>\n",
       "    </tr>\n",
       "    <tr>\n",
       "      <th>max</th>\n",
       "      <td>48.00</td>\n",
       "      <td>8.000000</td>\n",
       "    </tr>\n",
       "  </tbody>\n",
       "</table>\n",
       "</div>"
      ],
      "text/plain": [
       "          no     jumlah\n",
       "count  48.00  48.000000\n",
       "mean   24.50   4.395833\n",
       "std    14.00   1.379787\n",
       "min     1.00   1.000000\n",
       "25%    12.75   4.000000\n",
       "50%    24.50   5.000000\n",
       "75%    36.25   5.000000\n",
       "max    48.00   8.000000"
      ]
     },
     "execution_count": 3,
     "metadata": {},
     "output_type": "execute_result"
    }
   ],
   "source": [
    "#info Statistiknya\n",
    "data.describe()"
   ]
  },
  {
   "cell_type": "code",
   "execution_count": 4,
   "id": "7be4fe8c-5a22-4f87-a701-da3907adb423",
   "metadata": {},
   "outputs": [
    {
     "name": "stdout",
     "output_type": "stream",
     "text": [
      "7\n"
     ]
    }
   ],
   "source": [
    "#Menentukan Bound Of Error Awal\n",
    "E = 1.96 / (2*np.sqrt(48)) # Tingakt kesalahan 95%\n",
    "B = E * 48\n",
    "B = math.ceil(B)\n",
    "print(B)"
   ]
  },
  {
   "cell_type": "code",
   "execution_count": 5,
   "id": "3f9bd07e-7649-40cb-8ade-dbec994de738",
   "metadata": {},
   "outputs": [
    {
     "data": {
      "text/html": [
       "<div>\n",
       "<style scoped>\n",
       "    .dataframe tbody tr th:only-of-type {\n",
       "        vertical-align: middle;\n",
       "    }\n",
       "\n",
       "    .dataframe tbody tr th {\n",
       "        vertical-align: top;\n",
       "    }\n",
       "\n",
       "    .dataframe thead th {\n",
       "        text-align: right;\n",
       "    }\n",
       "</style>\n",
       "<table border=\"1\" class=\"dataframe\">\n",
       "  <thead>\n",
       "    <tr style=\"text-align: right;\">\n",
       "      <th></th>\n",
       "      <th>kelurahan</th>\n",
       "      <th>total_unit(Mi)</th>\n",
       "      <th>jml_data(yi)</th>\n",
       "    </tr>\n",
       "  </thead>\n",
       "  <tbody>\n",
       "    <tr>\n",
       "      <th>0</th>\n",
       "      <td>KELURAHAN BANGKA BELITUNG DARAT</td>\n",
       "      <td>12</td>\n",
       "      <td>54</td>\n",
       "    </tr>\n",
       "    <tr>\n",
       "      <th>1</th>\n",
       "      <td>KELURAHAN BANSIR LAUT</td>\n",
       "      <td>8</td>\n",
       "      <td>36</td>\n",
       "    </tr>\n",
       "    <tr>\n",
       "      <th>2</th>\n",
       "      <td>KELURAHAN DARAT SEKIP</td>\n",
       "      <td>10</td>\n",
       "      <td>45</td>\n",
       "    </tr>\n",
       "    <tr>\n",
       "      <th>3</th>\n",
       "      <td>KELURAHAN SAIGON</td>\n",
       "      <td>11</td>\n",
       "      <td>45</td>\n",
       "    </tr>\n",
       "    <tr>\n",
       "      <th>4</th>\n",
       "      <td>KELURAHAN SUNGAI JAWI DALAM</td>\n",
       "      <td>7</td>\n",
       "      <td>31</td>\n",
       "    </tr>\n",
       "  </tbody>\n",
       "</table>\n",
       "</div>"
      ],
      "text/plain": [
       "                         kelurahan  total_unit(Mi)  jml_data(yi)\n",
       "0  KELURAHAN BANGKA BELITUNG DARAT              12            54\n",
       "1            KELURAHAN BANSIR LAUT               8            36\n",
       "2            KELURAHAN DARAT SEKIP              10            45\n",
       "3                 KELURAHAN SAIGON              11            45\n",
       "4      KELURAHAN SUNGAI JAWI DALAM               7            31"
      ]
     },
     "execution_count": 5,
     "metadata": {},
     "output_type": "execute_result"
    }
   ],
   "source": [
    "#Buat Hasilnya per CLuster untuk menghitung jumlah unit tiap kelurahan dan jumlah hasil observasi\n",
    "jumlah = data.groupby('kelurahan')['nama'].count().reset_index(name ='total_unit(Mi)')\n",
    "total = data.groupby('kelurahan')['jumlah'].sum().reset_index(name ='jml_data(yi)')\n",
    "pra_sample = pd.merge(jumlah, total, on=['kelurahan'])\n",
    "pra_sample"
   ]
  },
  {
   "cell_type": "code",
   "execution_count": 6,
   "id": "a5a2bd06-fedf-485e-a78a-d0fafe1b4cc1",
   "metadata": {},
   "outputs": [
    {
     "data": {
      "text/plain": [
       "0.0253099173553719"
      ]
     },
     "execution_count": 6,
     "metadata": {},
     "output_type": "execute_result"
    }
   ],
   "source": [
    "#Hitung Nilai D dengan bound of error sebesar 7 dari perhitungan\n",
    "B = 7\n",
    "N = 22 # Total sample\n",
    "\n",
    "# Maka diperoleh nilai D sebagai berikut\n",
    "D = B**2/(4*(N**2))\n",
    "D"
   ]
  },
  {
   "cell_type": "code",
   "execution_count": 7,
   "id": "9201ac1c-8f06-4f80-9d8b-5584ebc1200a",
   "metadata": {},
   "outputs": [
    {
     "name": "stdout",
     "output_type": "stream",
     "text": [
      "rata-rata anggota keluarga yang diestimasi : 4 orang\n"
     ]
    }
   ],
   "source": [
    "# cari r atau mu\n",
    "# y_i adalah jumlah anggota keluarga dari kelurahan yang disample\n",
    "y_total_1 = np.sum(pra_sample[\"jml_data(yi)\"])\n",
    "\n",
    "# M_i adalah jumlah orang/unit dari kelurahan yang disample\n",
    "M1 = np.sum(pra_sample[\"total_unit(Mi)\"])\n",
    "\n",
    "mu = y_total_1/M1\n",
    "print(f\"rata-rata anggota keluarga yang diestimasi : {mu:.0f} orang\")"
   ]
  },
  {
   "cell_type": "code",
   "execution_count": 8,
   "id": "ee72697a-df59-431e-8b55-b89bb86a6796",
   "metadata": {},
   "outputs": [
    {
     "data": {
      "text/html": [
       "<div>\n",
       "<style scoped>\n",
       "    .dataframe tbody tr th:only-of-type {\n",
       "        vertical-align: middle;\n",
       "    }\n",
       "\n",
       "    .dataframe tbody tr th {\n",
       "        vertical-align: top;\n",
       "    }\n",
       "\n",
       "    .dataframe thead th {\n",
       "        text-align: right;\n",
       "    }\n",
       "</style>\n",
       "<table border=\"1\" class=\"dataframe\">\n",
       "  <thead>\n",
       "    <tr style=\"text-align: right;\">\n",
       "      <th></th>\n",
       "      <th>kelurahan</th>\n",
       "      <th>total_unit(Mi)</th>\n",
       "      <th>jml_data(yi)</th>\n",
       "      <th>muMi</th>\n",
       "      <th>yi-muMi</th>\n",
       "      <th>yi-muMi^2</th>\n",
       "    </tr>\n",
       "  </thead>\n",
       "  <tbody>\n",
       "    <tr>\n",
       "      <th>0</th>\n",
       "      <td>KELURAHAN BANGKA BELITUNG DARAT</td>\n",
       "      <td>12</td>\n",
       "      <td>54</td>\n",
       "      <td>52.750000</td>\n",
       "      <td>1.250000</td>\n",
       "      <td>1.562500</td>\n",
       "    </tr>\n",
       "    <tr>\n",
       "      <th>1</th>\n",
       "      <td>KELURAHAN BANSIR LAUT</td>\n",
       "      <td>8</td>\n",
       "      <td>36</td>\n",
       "      <td>35.166667</td>\n",
       "      <td>0.833333</td>\n",
       "      <td>0.694444</td>\n",
       "    </tr>\n",
       "    <tr>\n",
       "      <th>2</th>\n",
       "      <td>KELURAHAN DARAT SEKIP</td>\n",
       "      <td>10</td>\n",
       "      <td>45</td>\n",
       "      <td>43.958333</td>\n",
       "      <td>1.041667</td>\n",
       "      <td>1.085069</td>\n",
       "    </tr>\n",
       "    <tr>\n",
       "      <th>3</th>\n",
       "      <td>KELURAHAN SAIGON</td>\n",
       "      <td>11</td>\n",
       "      <td>45</td>\n",
       "      <td>48.354167</td>\n",
       "      <td>-3.354167</td>\n",
       "      <td>11.250434</td>\n",
       "    </tr>\n",
       "    <tr>\n",
       "      <th>4</th>\n",
       "      <td>KELURAHAN SUNGAI JAWI DALAM</td>\n",
       "      <td>7</td>\n",
       "      <td>31</td>\n",
       "      <td>30.770833</td>\n",
       "      <td>0.229167</td>\n",
       "      <td>0.052517</td>\n",
       "    </tr>\n",
       "  </tbody>\n",
       "</table>\n",
       "</div>"
      ],
      "text/plain": [
       "                         kelurahan  total_unit(Mi)  jml_data(yi)       muMi  \\\n",
       "0  KELURAHAN BANGKA BELITUNG DARAT              12            54  52.750000   \n",
       "1            KELURAHAN BANSIR LAUT               8            36  35.166667   \n",
       "2            KELURAHAN DARAT SEKIP              10            45  43.958333   \n",
       "3                 KELURAHAN SAIGON              11            45  48.354167   \n",
       "4      KELURAHAN SUNGAI JAWI DALAM               7            31  30.770833   \n",
       "\n",
       "    yi-muMi  yi-muMi^2  \n",
       "0  1.250000   1.562500  \n",
       "1  0.833333   0.694444  \n",
       "2  1.041667   1.085069  \n",
       "3 -3.354167  11.250434  \n",
       "4  0.229167   0.052517  "
      ]
     },
     "execution_count": 8,
     "metadata": {},
     "output_type": "execute_result"
    }
   ],
   "source": [
    "pra_sample['muMi'] = pra_sample['total_unit(Mi)'] *mu\n",
    "pra_sample['yi-muMi'] = pra_sample['jml_data(yi)'] - pra_sample['muMi']\n",
    "pra_sample['yi-muMi^2'] = pra_sample['yi-muMi'] **2\n",
    "pra_sample\n"
   ]
  },
  {
   "cell_type": "code",
   "execution_count": 10,
   "id": "861eeb3d-8d06-463d-ba90-44a7e3fd3a59",
   "metadata": {},
   "outputs": [
    {
     "data": {
      "text/plain": [
       "0.6973792989417988"
      ]
     },
     "execution_count": 10,
     "metadata": {},
     "output_type": "execute_result"
    }
   ],
   "source": [
    "# Cari Varians\n",
    "y_kuadrat = np.sum(pra_sample[\"yi-muMi^2\"])\n",
    "varians = y_kuadrat/(N-1)\n",
    "varians"
   ]
  },
  {
   "cell_type": "code",
   "execution_count": 11,
   "id": "05d63408-c7f6-47dc-8d88-9e0ac23136af",
   "metadata": {},
   "outputs": [
    {
     "name": "stdout",
     "output_type": "stream",
     "text": [
      "Maka Sampel yang harus di ambil adalah sebanyak : 13 cluster\n"
     ]
    }
   ],
   "source": [
    "# hitung n\n",
    "n = N*varians/((N*D)+varians)\n",
    "n = math.ceil(n)\n",
    "print(f\"Maka Sampel yang harus di ambil adalah sebanyak : {n} cluster\")"
   ]
  },
  {
   "cell_type": "markdown",
   "id": "e2b2cb75-9736-47dd-9dac-1ba65b0bcbf6",
   "metadata": {},
   "source": [
    "#### Menaksir Sample terhadap Populasi"
   ]
  },
  {
   "cell_type": "markdown",
   "id": "811dc1b3-a7b4-4b9f-998c-96d3971de8f7",
   "metadata": {},
   "source": [
    "##### Lakukan Random Sampling 13 cluster\n",
    "Setelah dilakukan perhitungan dengan menggunakan data pra-survey maka didapat cluster yang harus di ambil adalah sebanyak 13 cluster, 13 cluster ini akan diambil dari 22 cluster secara acak dengan hasil sebagai berikut:\n"
   ]
  },
  {
   "cell_type": "code",
   "execution_count": 12,
   "id": "938ce432-277f-4cac-bd41-1def6ea6ede4",
   "metadata": {},
   "outputs": [
    {
     "data": {
      "text/html": [
       "<div>\n",
       "<style scoped>\n",
       "    .dataframe tbody tr th:only-of-type {\n",
       "        vertical-align: middle;\n",
       "    }\n",
       "\n",
       "    .dataframe tbody tr th {\n",
       "        vertical-align: top;\n",
       "    }\n",
       "\n",
       "    .dataframe thead th {\n",
       "        text-align: right;\n",
       "    }\n",
       "</style>\n",
       "<table border=\"1\" class=\"dataframe\">\n",
       "  <thead>\n",
       "    <tr style=\"text-align: right;\">\n",
       "      <th></th>\n",
       "      <th>no</th>\n",
       "      <th>nama</th>\n",
       "      <th>status</th>\n",
       "      <th>jumlah</th>\n",
       "      <th>tgl</th>\n",
       "      <th>kelurahan</th>\n",
       "      <th>kecamatan</th>\n",
       "    </tr>\n",
       "  </thead>\n",
       "  <tbody>\n",
       "    <tr>\n",
       "      <th>0</th>\n",
       "      <td>1</td>\n",
       "      <td>Dra.DWI SURYANTI</td>\n",
       "      <td>ASN</td>\n",
       "      <td>7</td>\n",
       "      <td>2020-03-28 00:00:00</td>\n",
       "      <td>KELURAHAN BANJAR SERASAN</td>\n",
       "      <td>PONTIANAK TIMUR</td>\n",
       "    </tr>\n",
       "    <tr>\n",
       "      <th>1</th>\n",
       "      <td>2</td>\n",
       "      <td>NORANI,SH,ME</td>\n",
       "      <td>ASN</td>\n",
       "      <td>4</td>\n",
       "      <td>2020-03-04 00:00:00</td>\n",
       "      <td>KELURAHAN BANJAR SERASAN</td>\n",
       "      <td>PONTIANAK TIMUR</td>\n",
       "    </tr>\n",
       "    <tr>\n",
       "      <th>2</th>\n",
       "      <td>3</td>\n",
       "      <td>SYARIF YUSUF</td>\n",
       "      <td>ASN</td>\n",
       "      <td>6</td>\n",
       "      <td>2020-03-05 00:00:00</td>\n",
       "      <td>KELURAHAN BANJAR SERASAN</td>\n",
       "      <td>PONTIANAK TIMUR</td>\n",
       "    </tr>\n",
       "    <tr>\n",
       "      <th>3</th>\n",
       "      <td>4</td>\n",
       "      <td>PAKU ERNANTO DJATI</td>\n",
       "      <td>ASN</td>\n",
       "      <td>6</td>\n",
       "      <td>2020-03-05 00:00:00</td>\n",
       "      <td>KELURAHAN BANJAR SERASAN</td>\n",
       "      <td>PONTIANAK TIMUR</td>\n",
       "    </tr>\n",
       "    <tr>\n",
       "      <th>4</th>\n",
       "      <td>5</td>\n",
       "      <td>SYF.ROSMAWATI,A.Md</td>\n",
       "      <td>ASN</td>\n",
       "      <td>5</td>\n",
       "      <td>2020-03-03 00:00:00</td>\n",
       "      <td>KELURAHAN BANJAR SERASAN</td>\n",
       "      <td>PONTIANAK TIMUR</td>\n",
       "    </tr>\n",
       "  </tbody>\n",
       "</table>\n",
       "</div>"
      ],
      "text/plain": [
       "   no                nama status  jumlah                  tgl  \\\n",
       "0   1    Dra.DWI SURYANTI    ASN       7  2020-03-28 00:00:00   \n",
       "1   2        NORANI,SH,ME    ASN       4  2020-03-04 00:00:00   \n",
       "2   3        SYARIF YUSUF    ASN       6  2020-03-05 00:00:00   \n",
       "3   4  PAKU ERNANTO DJATI    ASN       6  2020-03-05 00:00:00   \n",
       "4   5  SYF.ROSMAWATI,A.Md    ASN       5  2020-03-03 00:00:00   \n",
       "\n",
       "                  kelurahan        kecamatan  \n",
       "0  KELURAHAN BANJAR SERASAN  PONTIANAK TIMUR  \n",
       "1  KELURAHAN BANJAR SERASAN  PONTIANAK TIMUR  \n",
       "2  KELURAHAN BANJAR SERASAN  PONTIANAK TIMUR  \n",
       "3  KELURAHAN BANJAR SERASAN  PONTIANAK TIMUR  \n",
       "4  KELURAHAN BANJAR SERASAN  PONTIANAK TIMUR  "
      ]
     },
     "execution_count": 12,
     "metadata": {},
     "output_type": "execute_result"
    }
   ],
   "source": [
    "#Load Data Hasil Sampling ke 13 Cluster\n",
    "data_net = pd.read_excel(r'C:\\Users\\jkurn\\Documents\\Sampling\\net_sample1.xlsx')\n",
    "data_net.head()"
   ]
  },
  {
   "cell_type": "code",
   "execution_count": 13,
   "id": "c9091f62-6ea8-4dcf-8bc1-20a9b04b1023",
   "metadata": {},
   "outputs": [
    {
     "data": {
      "text/html": [
       "<div>\n",
       "<style scoped>\n",
       "    .dataframe tbody tr th:only-of-type {\n",
       "        vertical-align: middle;\n",
       "    }\n",
       "\n",
       "    .dataframe tbody tr th {\n",
       "        vertical-align: top;\n",
       "    }\n",
       "\n",
       "    .dataframe thead th {\n",
       "        text-align: right;\n",
       "    }\n",
       "</style>\n",
       "<table border=\"1\" class=\"dataframe\">\n",
       "  <thead>\n",
       "    <tr style=\"text-align: right;\">\n",
       "      <th></th>\n",
       "      <th>no</th>\n",
       "      <th>jumlah</th>\n",
       "    </tr>\n",
       "  </thead>\n",
       "  <tbody>\n",
       "    <tr>\n",
       "      <th>count</th>\n",
       "      <td>123.000000</td>\n",
       "      <td>123.000000</td>\n",
       "    </tr>\n",
       "    <tr>\n",
       "      <th>mean</th>\n",
       "      <td>62.000000</td>\n",
       "      <td>4.382114</td>\n",
       "    </tr>\n",
       "    <tr>\n",
       "      <th>std</th>\n",
       "      <td>35.651087</td>\n",
       "      <td>1.370176</td>\n",
       "    </tr>\n",
       "    <tr>\n",
       "      <th>min</th>\n",
       "      <td>1.000000</td>\n",
       "      <td>1.000000</td>\n",
       "    </tr>\n",
       "    <tr>\n",
       "      <th>25%</th>\n",
       "      <td>31.500000</td>\n",
       "      <td>4.000000</td>\n",
       "    </tr>\n",
       "    <tr>\n",
       "      <th>50%</th>\n",
       "      <td>62.000000</td>\n",
       "      <td>5.000000</td>\n",
       "    </tr>\n",
       "    <tr>\n",
       "      <th>75%</th>\n",
       "      <td>92.500000</td>\n",
       "      <td>5.000000</td>\n",
       "    </tr>\n",
       "    <tr>\n",
       "      <th>max</th>\n",
       "      <td>123.000000</td>\n",
       "      <td>8.000000</td>\n",
       "    </tr>\n",
       "  </tbody>\n",
       "</table>\n",
       "</div>"
      ],
      "text/plain": [
       "               no      jumlah\n",
       "count  123.000000  123.000000\n",
       "mean    62.000000    4.382114\n",
       "std     35.651087    1.370176\n",
       "min      1.000000    1.000000\n",
       "25%     31.500000    4.000000\n",
       "50%     62.000000    5.000000\n",
       "75%     92.500000    5.000000\n",
       "max    123.000000    8.000000"
      ]
     },
     "execution_count": 13,
     "metadata": {},
     "output_type": "execute_result"
    }
   ],
   "source": [
    "#Informasi Statistik Data\n",
    "data_net.describe()"
   ]
  },
  {
   "cell_type": "code",
   "execution_count": 14,
   "id": "aab5c828-fa2f-4284-b421-d35b3a9b83f7",
   "metadata": {},
   "outputs": [
    {
     "data": {
      "text/html": [
       "<div>\n",
       "<style scoped>\n",
       "    .dataframe tbody tr th:only-of-type {\n",
       "        vertical-align: middle;\n",
       "    }\n",
       "\n",
       "    .dataframe tbody tr th {\n",
       "        vertical-align: top;\n",
       "    }\n",
       "\n",
       "    .dataframe thead th {\n",
       "        text-align: right;\n",
       "    }\n",
       "</style>\n",
       "<table border=\"1\" class=\"dataframe\">\n",
       "  <thead>\n",
       "    <tr style=\"text-align: right;\">\n",
       "      <th></th>\n",
       "      <th>kelurahan</th>\n",
       "      <th>total_unit(Mi)</th>\n",
       "      <th>jml_data(yi)</th>\n",
       "    </tr>\n",
       "  </thead>\n",
       "  <tbody>\n",
       "    <tr>\n",
       "      <th>0</th>\n",
       "      <td>KELUARAHAN BENUA MELAYU DARAT</td>\n",
       "      <td>10</td>\n",
       "      <td>48</td>\n",
       "    </tr>\n",
       "    <tr>\n",
       "      <th>1</th>\n",
       "      <td>KELURAHAN BANGKA BELITUNG DARAT</td>\n",
       "      <td>12</td>\n",
       "      <td>54</td>\n",
       "    </tr>\n",
       "    <tr>\n",
       "      <th>2</th>\n",
       "      <td>KELURAHAN BANGKA BELITUNG LAUT</td>\n",
       "      <td>11</td>\n",
       "      <td>48</td>\n",
       "    </tr>\n",
       "    <tr>\n",
       "      <th>3</th>\n",
       "      <td>KELURAHAN BANJAR SERASAN</td>\n",
       "      <td>10</td>\n",
       "      <td>44</td>\n",
       "    </tr>\n",
       "    <tr>\n",
       "      <th>4</th>\n",
       "      <td>KELURAHAN BANSIR DARAT</td>\n",
       "      <td>8</td>\n",
       "      <td>30</td>\n",
       "    </tr>\n",
       "    <tr>\n",
       "      <th>5</th>\n",
       "      <td>KELURAHAN BANSIR LAUT</td>\n",
       "      <td>8</td>\n",
       "      <td>36</td>\n",
       "    </tr>\n",
       "    <tr>\n",
       "      <th>6</th>\n",
       "      <td>KELURAHAN DALAM BUGIS</td>\n",
       "      <td>10</td>\n",
       "      <td>39</td>\n",
       "    </tr>\n",
       "    <tr>\n",
       "      <th>7</th>\n",
       "      <td>KELURAHAN SAIGON</td>\n",
       "      <td>11</td>\n",
       "      <td>45</td>\n",
       "    </tr>\n",
       "    <tr>\n",
       "      <th>8</th>\n",
       "      <td>KELURAHAN SIANTAN TENGAH</td>\n",
       "      <td>11</td>\n",
       "      <td>43</td>\n",
       "    </tr>\n",
       "    <tr>\n",
       "      <th>9</th>\n",
       "      <td>KELURAHAN SUNGAI JAWI DALAM</td>\n",
       "      <td>7</td>\n",
       "      <td>31</td>\n",
       "    </tr>\n",
       "    <tr>\n",
       "      <th>10</th>\n",
       "      <td>KELURAHAN TAMBELAN SAMPIT</td>\n",
       "      <td>6</td>\n",
       "      <td>27</td>\n",
       "    </tr>\n",
       "    <tr>\n",
       "      <th>11</th>\n",
       "      <td>KELURAHAN TANJUNG HILIR</td>\n",
       "      <td>8</td>\n",
       "      <td>38</td>\n",
       "    </tr>\n",
       "    <tr>\n",
       "      <th>12</th>\n",
       "      <td>KELURAHAN TANJUNG HULU</td>\n",
       "      <td>11</td>\n",
       "      <td>56</td>\n",
       "    </tr>\n",
       "  </tbody>\n",
       "</table>\n",
       "</div>"
      ],
      "text/plain": [
       "                          kelurahan  total_unit(Mi)  jml_data(yi)\n",
       "0     KELUARAHAN BENUA MELAYU DARAT              10            48\n",
       "1   KELURAHAN BANGKA BELITUNG DARAT              12            54\n",
       "2    KELURAHAN BANGKA BELITUNG LAUT              11            48\n",
       "3          KELURAHAN BANJAR SERASAN              10            44\n",
       "4            KELURAHAN BANSIR DARAT               8            30\n",
       "5             KELURAHAN BANSIR LAUT               8            36\n",
       "6             KELURAHAN DALAM BUGIS              10            39\n",
       "7                  KELURAHAN SAIGON              11            45\n",
       "8          KELURAHAN SIANTAN TENGAH              11            43\n",
       "9       KELURAHAN SUNGAI JAWI DALAM               7            31\n",
       "10        KELURAHAN TAMBELAN SAMPIT               6            27\n",
       "11          KELURAHAN TANJUNG HILIR               8            38\n",
       "12           KELURAHAN TANJUNG HULU              11            56"
      ]
     },
     "execution_count": 14,
     "metadata": {},
     "output_type": "execute_result"
    }
   ],
   "source": [
    "#Buat Hasilnya per CLuster untuk menghitung jumlah unit tiap kelurahan dan jumlah hasil observasi\n",
    "jumlah1 = data_net.groupby('kelurahan')['nama'].count().reset_index(name ='total_unit(Mi)')\n",
    "total1 = data_net.groupby('kelurahan')['jumlah'].sum().reset_index(name ='jml_data(yi)')\n",
    "net_sample = pd.merge(jumlah1, total1, on=['kelurahan'])\n",
    "net_sample"
   ]
  },
  {
   "cell_type": "markdown",
   "id": "cd35caa3-b1a4-4111-8f34-f88a632873ac",
   "metadata": {},
   "source": [
    "##### Penaksiran Rata-rata\n",
    "Karena ukuran unit tiap cluster berbeda maka menggunakan pendekatan ratio estimation r"
   ]
  },
  {
   "cell_type": "code",
   "execution_count": 15,
   "id": "2e6b4112-8955-48e7-8787-63a5b18ee636",
   "metadata": {},
   "outputs": [
    {
     "name": "stdout",
     "output_type": "stream",
     "text": [
      "jumlah anggota keluarga dari kelurahan yang disample       : 539 orang\n",
      "jumlah orang/unit dari kelurahan yang disample             : 123 orang\n",
      "rata-rata anggota keluarga yang diestimasi                 : 4 orang\n"
     ]
    }
   ],
   "source": [
    "# y_i adalah jumlah anggota keluarga dari kelurahan yang disample\n",
    "y_total = np.sum(net_sample[\"jml_data(yi)\"])\n",
    "\n",
    "# M_i adalah jumlah orang/unit dari kelurahan yang disample\n",
    "M = np.sum(net_sample[\"total_unit(Mi)\"])\n",
    "\n",
    "# r or mu_r adalah sebagai berikut\n",
    "mu_r = y_total / M\n",
    "mu_r\n",
    "print(f\"jumlah anggota keluarga dari kelurahan yang disample       : {y_total:.0f} orang\")\n",
    "print(f\"jumlah orang/unit dari kelurahan yang disample             : {M} orang\")\n",
    "print(f\"rata-rata anggota keluarga yang diestimasi                 : {mu_r:.0f} orang\")"
   ]
  },
  {
   "cell_type": "markdown",
   "id": "ffcbd761-7e5c-486c-ade6-7f7e74eac1e3",
   "metadata": {},
   "source": [
    "##### Penaksiran Estimator dengan 95% Confidence Interval"
   ]
  },
  {
   "cell_type": "code",
   "execution_count": 17,
   "id": "4d834301-cca9-4d54-9b39-e5015b8a35ce",
   "metadata": {},
   "outputs": [
    {
     "data": {
      "text/html": [
       "<div>\n",
       "<style scoped>\n",
       "    .dataframe tbody tr th:only-of-type {\n",
       "        vertical-align: middle;\n",
       "    }\n",
       "\n",
       "    .dataframe tbody tr th {\n",
       "        vertical-align: top;\n",
       "    }\n",
       "\n",
       "    .dataframe thead th {\n",
       "        text-align: right;\n",
       "    }\n",
       "</style>\n",
       "<table border=\"1\" class=\"dataframe\">\n",
       "  <thead>\n",
       "    <tr style=\"text-align: right;\">\n",
       "      <th></th>\n",
       "      <th>kelurahan</th>\n",
       "      <th>total_unit(Mi)</th>\n",
       "      <th>jml_data(yi)</th>\n",
       "      <th>yi_rMi2</th>\n",
       "    </tr>\n",
       "  </thead>\n",
       "  <tbody>\n",
       "    <tr>\n",
       "      <th>0</th>\n",
       "      <td>KELUARAHAN BENUA MELAYU DARAT</td>\n",
       "      <td>10</td>\n",
       "      <td>48</td>\n",
       "      <td>17.462886</td>\n",
       "    </tr>\n",
       "    <tr>\n",
       "      <th>1</th>\n",
       "      <td>KELURAHAN BANGKA BELITUNG DARAT</td>\n",
       "      <td>12</td>\n",
       "      <td>54</td>\n",
       "      <td>2.001190</td>\n",
       "    </tr>\n",
       "    <tr>\n",
       "      <th>2</th>\n",
       "      <td>KELURAHAN BANGKA BELITUNG LAUT</td>\n",
       "      <td>11</td>\n",
       "      <td>48</td>\n",
       "      <td>0.041311</td>\n",
       "    </tr>\n",
       "    <tr>\n",
       "      <th>3</th>\n",
       "      <td>KELURAHAN BANJAR SERASAN</td>\n",
       "      <td>10</td>\n",
       "      <td>44</td>\n",
       "      <td>0.031992</td>\n",
       "    </tr>\n",
       "    <tr>\n",
       "      <th>4</th>\n",
       "      <td>KELURAHAN BANSIR DARAT</td>\n",
       "      <td>8</td>\n",
       "      <td>30</td>\n",
       "      <td>25.572345</td>\n",
       "    </tr>\n",
       "    <tr>\n",
       "      <th>5</th>\n",
       "      <td>KELURAHAN BANSIR LAUT</td>\n",
       "      <td>8</td>\n",
       "      <td>36</td>\n",
       "      <td>0.889418</td>\n",
       "    </tr>\n",
       "    <tr>\n",
       "      <th>6</th>\n",
       "      <td>KELURAHAN DALAM BUGIS</td>\n",
       "      <td>10</td>\n",
       "      <td>39</td>\n",
       "      <td>23.243374</td>\n",
       "    </tr>\n",
       "    <tr>\n",
       "      <th>7</th>\n",
       "      <td>KELURAHAN SAIGON</td>\n",
       "      <td>11</td>\n",
       "      <td>45</td>\n",
       "      <td>10.260824</td>\n",
       "    </tr>\n",
       "    <tr>\n",
       "      <th>8</th>\n",
       "      <td>KELURAHAN SIANTAN TENGAH</td>\n",
       "      <td>11</td>\n",
       "      <td>43</td>\n",
       "      <td>27.073832</td>\n",
       "    </tr>\n",
       "    <tr>\n",
       "      <th>9</th>\n",
       "      <td>KELURAHAN SUNGAI JAWI DALAM</td>\n",
       "      <td>7</td>\n",
       "      <td>31</td>\n",
       "      <td>0.105757</td>\n",
       "    </tr>\n",
       "    <tr>\n",
       "      <th>10</th>\n",
       "      <td>KELURAHAN TAMBELAN SAMPIT</td>\n",
       "      <td>6</td>\n",
       "      <td>27</td>\n",
       "      <td>0.500297</td>\n",
       "    </tr>\n",
       "    <tr>\n",
       "      <th>11</th>\n",
       "      <td>KELURAHAN TANJUNG HILIR</td>\n",
       "      <td>8</td>\n",
       "      <td>38</td>\n",
       "      <td>8.661775</td>\n",
       "    </tr>\n",
       "    <tr>\n",
       "      <th>12</th>\n",
       "      <td>KELURAHAN TANJUNG HULU</td>\n",
       "      <td>11</td>\n",
       "      <td>56</td>\n",
       "      <td>60.789279</td>\n",
       "    </tr>\n",
       "  </tbody>\n",
       "</table>\n",
       "</div>"
      ],
      "text/plain": [
       "                          kelurahan  total_unit(Mi)  jml_data(yi)    yi_rMi2\n",
       "0     KELUARAHAN BENUA MELAYU DARAT              10            48  17.462886\n",
       "1   KELURAHAN BANGKA BELITUNG DARAT              12            54   2.001190\n",
       "2    KELURAHAN BANGKA BELITUNG LAUT              11            48   0.041311\n",
       "3          KELURAHAN BANJAR SERASAN              10            44   0.031992\n",
       "4            KELURAHAN BANSIR DARAT               8            30  25.572345\n",
       "5             KELURAHAN BANSIR LAUT               8            36   0.889418\n",
       "6             KELURAHAN DALAM BUGIS              10            39  23.243374\n",
       "7                  KELURAHAN SAIGON              11            45  10.260824\n",
       "8          KELURAHAN SIANTAN TENGAH              11            43  27.073832\n",
       "9       KELURAHAN SUNGAI JAWI DALAM               7            31   0.105757\n",
       "10        KELURAHAN TAMBELAN SAMPIT               6            27   0.500297\n",
       "11          KELURAHAN TANJUNG HILIR               8            38   8.661775\n",
       "12           KELURAHAN TANJUNG HULU              11            56  60.789279"
      ]
     },
     "execution_count": 17,
     "metadata": {},
     "output_type": "execute_result"
    }
   ],
   "source": [
    "# Lakukan Perhitungan varians tiap cluster sample\n",
    "# Hitung nilai yi-rMi2 \n",
    "net_sample['yi_rMi2'] = (net_sample['jml_data(yi)']- (mu_r*net_sample['total_unit(Mi)']))**2\n",
    "net_sample"
   ]
  },
  {
   "cell_type": "code",
   "execution_count": 18,
   "id": "e567bd76-5586-439d-aae7-d092af15e34e",
   "metadata": {},
   "outputs": [
    {
     "name": "stdout",
     "output_type": "stream",
     "text": [
      "Perhitungan varians tiap kelurahan sample : (4)^2\n",
      "Varians dari total populasi.              : (15)^2\n"
     ]
    }
   ],
   "source": [
    "sc_square = np.sum(net_sample[\"yi_rMi2\"]) / (n-1)\n",
    "print(f\"Perhitungan varians tiap kelurahan sample : ({np.sqrt(sc_square):.0f})^2\")\n",
    "\n",
    "# Next we calculate the variance of total population estimator\n",
    "var_y_total_est = N*(N-n)*(sc_square/n)\n",
    "print(f\"Varians dari total populasi.              : ({np.sqrt(var_y_total_est):.0f})^2\")"
   ]
  },
  {
   "cell_type": "code",
   "execution_count": 19,
   "id": "bfcc1e83-70a9-4d05-ba65-dbe6a3f60d44",
   "metadata": {},
   "outputs": [
    {
     "name": "stdout",
     "output_type": "stream",
     "text": [
      "rata-rata pegawai dari kelurahan yang di sample       : 9\n",
      "Estimasi total pegawai dari kelurahan yang di sample  : 208\n",
      "Varians dari rata-rata                                : (0.07)^2\n"
     ]
    }
   ],
   "source": [
    "# hitung rata-rata unit dari cluster yang di sample\n",
    "M_bar = np.mean(net_sample['total_unit(Mi)'])\n",
    "print(f\"rata-rata pegawai dari kelurahan yang di sample       : {M_bar:.0f}\")\n",
    "\n",
    "# Hitung Total dari populasi berdasarkan rata-rata\n",
    "M_tot_est = N * M_bar\n",
    "print(f\"Estimasi total pegawai dari kelurahan yang di sample  : {M_tot_est:.0f}\")\n",
    "\n",
    "# Hitung Var ians dari rata-rata\n",
    "var_y_mean_est = var_y_total_est / (M_tot_est**2)\n",
    "print(f\"Varians dari rata-rata                                : ({np.sqrt(var_y_mean_est):.2f})^2\")"
   ]
  },
  {
   "cell_type": "code",
   "execution_count": 20,
   "id": "baec82d7-fe50-49fc-84b0-6128a74b41d4",
   "metadata": {},
   "outputs": [
    {
     "name": "stdout",
     "output_type": "stream",
     "text": [
      "z_stat              : 1.96\n",
      "margin of error (d) : 0.14\n"
     ]
    }
   ],
   "source": [
    "# Hitung z_stat @ 95% Confidence Interval\n",
    "alpha = 0.05\n",
    "z_stat = stats.norm.ppf(1 - alpha/2.)\n",
    "print(f\"z_stat              : {z_stat:.2f}\")\n",
    "\n",
    "# Hitung Margin of error (d)\n",
    "d = z_stat * np.sqrt(var_y_mean_est)\n",
    "print(f\"margin of error (d) : {d:.2f}\")"
   ]
  },
  {
   "cell_type": "code",
   "execution_count": 24,
   "id": "9bfdf26f-213d-4d0c-bf91-faf163bb9b58",
   "metadata": {},
   "outputs": [
    {
     "name": "stdout",
     "output_type": "stream",
     "text": [
      "Dengan Confidence Interval 95% rata-rata jumlah anggota\n",
      "keluarga pada pegawai kelurahan kota pontianak adalah 4.24 orang and 4.52 orang\n"
     ]
    }
   ],
   "source": [
    "# Calculate the CI\n",
    "lb = mu_r - d\n",
    "ub = mu_r + d\n",
    "\n",
    "print(f\"Dengan Confidence Interval 95% rata-rata jumlah anggota\")\n",
    "print(f\"keluarga pada pegawai kelurahan kota pontianak adalah {lb:.2f} orang and {ub:.2f} orang\")"
   ]
  }
 ],
 "metadata": {
  "kernelspec": {
   "display_name": "Python 3 (ipykernel)",
   "language": "python",
   "name": "python3"
  },
  "language_info": {
   "codemirror_mode": {
    "name": "ipython",
    "version": 3
   },
   "file_extension": ".py",
   "mimetype": "text/x-python",
   "name": "python",
   "nbconvert_exporter": "python",
   "pygments_lexer": "ipython3",
   "version": "3.9.12"
  }
 },
 "nbformat": 4,
 "nbformat_minor": 5
}
